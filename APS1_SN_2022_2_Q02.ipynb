{
  "nbformat": 4,
  "nbformat_minor": 0,
  "metadata": {
    "colab": {
      "provenance": [],
      "collapsed_sections": [],
      "authorship_tag": "ABX9TyNZgdrt/jALCa+10fru/q3T",
      "include_colab_link": true
    },
    "kernelspec": {
      "name": "python3",
      "display_name": "Python 3"
    },
    "language_info": {
      "name": "python"
    }
  },
  "cells": [
    {
      "cell_type": "markdown",
      "metadata": {
        "id": "view-in-github",
        "colab_type": "text"
      },
      "source": [
        "<a href=\"https://colab.research.google.com/github/rodrigosilvaluz/SistemasNumericos/blob/master/APS1_SN_2022_2_Q02.ipynb\" target=\"_parent\"><img src=\"https://colab.research.google.com/assets/colab-badge.svg\" alt=\"Open In Colab\"/></a>"
      ]
    },
    {
      "cell_type": "markdown",
      "source": [
        "Questão 02"
      ],
      "metadata": {
        "id": "r0QUKScgNBg2"
      }
    },
    {
      "cell_type": "code",
      "execution_count": null,
      "metadata": {
        "id": "M1W5v2DqM1wz"
      },
      "outputs": [],
      "source": [
        "import numpy as np\n",
        "from numpy.linalg import norm \n",
        "\n",
        "x = np.array( (1, 3, 5, -6, 6)) # Vetor x\n",
        "xbar = np.array((2, -4, 6, 8, -7)) # vetor de aproximação para x\n",
        "print(\"Vetor x = \", x)\n",
        "print(\"Vetor de aproximação para x = \", xbar)\n",
        "erroAbsoluto = np.sqrt(np.sum(np.square(x -xbar) ) )\n",
        "erroRelativo = np.sqrt(np.sum(np.square(x -xbar) ))/norm(x)\n",
        "\n",
        "print(\"O erro absoluto de aproximação é:\", erroAbsoluto)\n",
        "print(\"O erro relativo de aproximação é:\", erroRelativo)"
      ]
    }
  ]
}