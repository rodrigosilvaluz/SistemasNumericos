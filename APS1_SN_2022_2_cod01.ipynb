{
  "nbformat": 4,
  "nbformat_minor": 0,
  "metadata": {
    "colab": {
      "provenance": [],
      "collapsed_sections": [],
      "authorship_tag": "ABX9TyMT03IjPKIOWexz9aQySn7s",
      "include_colab_link": true
    },
    "kernelspec": {
      "name": "python3",
      "display_name": "Python 3"
    },
    "language_info": {
      "name": "python"
    }
  },
  "cells": [
    {
      "cell_type": "markdown",
      "metadata": {
        "id": "view-in-github",
        "colab_type": "text"
      },
      "source": [
        "<a href=\"https://colab.research.google.com/github/rodrigosilvaluz/SistemasNumericos/blob/master/APS1_SN_2022_2_cod01.ipynb\" target=\"_parent\"><img src=\"https://colab.research.google.com/assets/colab-badge.svg\" alt=\"Open In Colab\"/></a>"
      ]
    },
    {
      "cell_type": "markdown",
      "source": [
        "Feito a importação das blibiotecas necessárias para rodar o código"
      ],
      "metadata": {
        "id": "YTC6vS0bz_BL"
      }
    },
    {
      "cell_type": "code",
      "execution_count": 33,
      "metadata": {
        "id": "O8kJVZxb2DW0"
      },
      "outputs": [],
      "source": [
        "import math\n",
        "import numpy as np\n",
        "import matplotlib.pyplot as plt"
      ]
    },
    {
      "cell_type": "markdown",
      "source": [
        "Input com a função alvo"
      ],
      "metadata": {
        "id": "OVEOFkVg0KOE"
      }
    },
    {
      "cell_type": "code",
      "source": [
        "def f(x):\n",
        "  return(x**4 - x**3 - x**2 + x + 8)\n"
      ],
      "metadata": {
        "id": "uEem34diYcvZ"
      },
      "execution_count": 18,
      "outputs": []
    },
    {
      "cell_type": "code",
      "source": [
        "a = float(input(\"Valor 'a' para o intervalo [a;b]: \"))"
      ],
      "metadata": {
        "colab": {
          "base_uri": "https://localhost:8080/"
        },
        "id": "NwKoHrLeYxEo",
        "outputId": "0e04da4d-7455-4be2-ea94-ec2618bb4ced"
      },
      "execution_count": 20,
      "outputs": [
        {
          "name": "stdout",
          "output_type": "stream",
          "text": [
            "Valor 'a' para o intervalo [a;b]: -2.5\n"
          ]
        }
      ]
    },
    {
      "cell_type": "code",
      "source": [
        "b = float(input(\"Valor 'b' para o intervalo [a;b]: \"))"
      ],
      "metadata": {
        "colab": {
          "base_uri": "https://localhost:8080/"
        },
        "id": "AFNGZNqsZIUG",
        "outputId": "bb7b194a-78b7-4ad1-e493-990d07832df1"
      },
      "execution_count": 22,
      "outputs": [
        {
          "name": "stdout",
          "output_type": "stream",
          "text": [
            "Valor 'b' para o intervalo [a;b]: 2.5\n"
          ]
        }
      ]
    },
    {
      "cell_type": "code",
      "source": [
        "l = 0.001\n",
        "t = 1e-6\n",
        "c = b - a\n",
        "cont = 0\n",
        "Ni = 100"
      ],
      "metadata": {
        "id": "e-x2zgiqZMTL"
      },
      "execution_count": 23,
      "outputs": []
    },
    {
      "cell_type": "code",
      "source": [
        "x0 = (a + b)/2.0"
      ],
      "metadata": {
        "id": "a60SqSOnZXHp"
      },
      "execution_count": 24,
      "outputs": []
    },
    {
      "cell_type": "code",
      "source": [
        "while(c > l or math.fabs(f(x0)) > t):\n",
        "  if(f(a)*f(x0) < 0.0):\n",
        "    b = x0\n",
        "  if(f(a)*f(x0) > 0.0):\n",
        "    a =x0\n",
        "\n",
        "  c = b - a\n",
        "  x0 = (a + b)/2.0  \n",
        "  cont = cont + 1  \n",
        "\n",
        "  if(cont >= Ni):\n",
        "    break\n",
        "\n",
        "  print(\"\\n\\n\\nRaiz: %f\\nIteracoes: %i\\nf(%f) = %f\" %(x0,cont,x0,f(x0)))\n",
        "  \n",
        "\n"
      ],
      "metadata": {
        "id": "O8cDOEAKaeNu"
      },
      "execution_count": null,
      "outputs": []
    },
    {
      "cell_type": "code",
      "source": [
        "a = -2.5\n",
        "b = 2.5"
      ],
      "metadata": {
        "id": "ISFtFhPdqDWK"
      },
      "execution_count": 34,
      "outputs": []
    },
    {
      "cell_type": "code",
      "source": [
        "def f(x): # definindo a função a ser aproxima sua raíz (intruduza a função objetivo)\n",
        "  f = x**4 - x**3 - x**2 + x + 8\n",
        "  return(f)"
      ],
      "metadata": {
        "id": "QFr9p-G7qRqc"
      },
      "execution_count": 35,
      "outputs": []
    },
    {
      "cell_type": "code",
      "source": [
        "print(\"f(x) = x**4 - x**3 - x**2 + x + 8 -> x = a \", f(a))\n",
        "print(\"f(x) = x**4 - x**3 - x**2 + x + 8 -> x = b \", f(b))"
      ],
      "metadata": {
        "colab": {
          "base_uri": "https://localhost:8080/"
        },
        "id": "DEepChfEqZ6t",
        "outputId": "a36e7bec-cafd-4dc5-d1d7-46fdf5dd0456"
      },
      "execution_count": 40,
      "outputs": [
        {
          "output_type": "stream",
          "name": "stdout",
          "text": [
            "f(x) = x**4 - x**3 - x**2 + x + 8 -> x = a  53.9375\n",
            "f(x) = x**4 - x**3 - x**2 + x + 8 -> x = b  27.6875\n"
          ]
        }
      ]
    },
    {
      "cell_type": "code",
      "source": [
        "k = (math.log(b - a, 10) - math.log(0.000001, 10)) / math.log(2, 10)\n",
        "print(f'k ->: \\033[36m{k}\\033[m >> arredondado para ->: \\033[33m{math.ceil(k)}\\033[m') # referente ao [iii. abs(b-a) <= 1E-06] - APS"
      ],
      "metadata": {
        "colab": {
          "base_uri": "https://localhost:8080/"
        },
        "id": "tSp192gQqkn4",
        "outputId": "3017eb88-977c-4fdf-e55a-da2053139f58"
      },
      "execution_count": 44,
      "outputs": [
        {
          "output_type": "stream",
          "name": "stdout",
          "text": [
            "k ->: \u001b[36m22.253496664211536\u001b[m >> arredondado para ->: \u001b[33m23\u001b[m\n"
          ]
        }
      ]
    },
    {
      "cell_type": "code",
      "source": [
        "x = np.linspace(-2.5, 2.5) \n",
        "y = f(x)\n",
        "plt.figure(dpi=70, figsize=(8, 6))\n",
        "plt.title(\"f(x) = x**4 - x**3 - x**2 + x + 8 \")\n",
        "plt.plot(x,y)\n",
        "plt.hlines(y=0, xmin=-5, xmax=5) \n",
        "plt.vlines(x=0, ymin=-5, ymax=20) \n",
        "plt.ylabel(\"f(x)\") \n",
        "plt.show() "
      ],
      "metadata": {
        "colab": {
          "base_uri": "https://localhost:8080/",
          "height": 380
        },
        "id": "bf7lEQ8IqsgW",
        "outputId": "375f7147-d8f8-4ce0-ffa6-7532273b6289"
      },
      "execution_count": 49,
      "outputs": [
        {
          "output_type": "display_data",
          "data": {
            "text/plain": [
              "<Figure size 560x420 with 1 Axes>"
            ],
            "image/png": "[encoded data removed]"
          },
          "metadata": {
            "needs_background": "light"
          }
        }
      ]
    }
  ]
}